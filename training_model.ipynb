{
 "cells": [
  {
   "cell_type": "code",
   "execution_count": 1,
   "metadata": {},
   "outputs": [],
   "source": [
    "import pandas as pd\n",
    "import matplotlib.pyplot as plt\n",
    "import numpy as np"
   ]
  },
  {
   "cell_type": "code",
   "execution_count": 2,
   "metadata": {},
   "outputs": [],
   "source": [
    "data=pd.read_csv('ProjectDS.csv')"
   ]
  },
  {
   "cell_type": "code",
   "execution_count": 3,
   "metadata": {},
   "outputs": [
    {
     "data": {
      "text/html": [
       "<div>\n",
       "<style scoped>\n",
       "    .dataframe tbody tr th:only-of-type {\n",
       "        vertical-align: middle;\n",
       "    }\n",
       "\n",
       "    .dataframe tbody tr th {\n",
       "        vertical-align: top;\n",
       "    }\n",
       "\n",
       "    .dataframe thead th {\n",
       "        text-align: right;\n",
       "    }\n",
       "</style>\n",
       "<table border=\"1\" class=\"dataframe\">\n",
       "  <thead>\n",
       "    <tr style=\"text-align: right;\">\n",
       "      <th></th>\n",
       "      <th>NDVI</th>\n",
       "      <th>dNDVI</th>\n",
       "      <th>dNBR</th>\n",
       "      <th>RESULT</th>\n",
       "    </tr>\n",
       "  </thead>\n",
       "  <tbody>\n",
       "    <tr>\n",
       "      <th>0</th>\n",
       "      <td>0.223383</td>\n",
       "      <td>-0.040262</td>\n",
       "      <td>-0.094064</td>\n",
       "      <td>YES</td>\n",
       "    </tr>\n",
       "    <tr>\n",
       "      <th>1</th>\n",
       "      <td>0.357803</td>\n",
       "      <td>-0.054888</td>\n",
       "      <td>-0.148439</td>\n",
       "      <td>YES</td>\n",
       "    </tr>\n",
       "    <tr>\n",
       "      <th>2</th>\n",
       "      <td>0.275674</td>\n",
       "      <td>-0.006674</td>\n",
       "      <td>0.046614</td>\n",
       "      <td>YES</td>\n",
       "    </tr>\n",
       "    <tr>\n",
       "      <th>3</th>\n",
       "      <td>0.255108</td>\n",
       "      <td>-0.028314</td>\n",
       "      <td>-0.045043</td>\n",
       "      <td>YES</td>\n",
       "    </tr>\n",
       "    <tr>\n",
       "      <th>4</th>\n",
       "      <td>0.258632</td>\n",
       "      <td>0.061891</td>\n",
       "      <td>0.038711</td>\n",
       "      <td>YES</td>\n",
       "    </tr>\n",
       "  </tbody>\n",
       "</table>\n",
       "</div>"
      ],
      "text/plain": [
       "       NDVI     dNDVI      dNBR RESULT\n",
       "0  0.223383 -0.040262 -0.094064    YES\n",
       "1  0.357803 -0.054888 -0.148439    YES\n",
       "2  0.275674 -0.006674  0.046614    YES\n",
       "3  0.255108 -0.028314 -0.045043    YES\n",
       "4  0.258632  0.061891  0.038711    YES"
      ]
     },
     "execution_count": 3,
     "metadata": {},
     "output_type": "execute_result"
    }
   ],
   "source": [
    "data.head()"
   ]
  },
  {
   "cell_type": "code",
   "execution_count": 6,
   "metadata": {},
   "outputs": [
    {
     "data": {
      "text/html": [
       "<div>\n",
       "<style scoped>\n",
       "    .dataframe tbody tr th:only-of-type {\n",
       "        vertical-align: middle;\n",
       "    }\n",
       "\n",
       "    .dataframe tbody tr th {\n",
       "        vertical-align: top;\n",
       "    }\n",
       "\n",
       "    .dataframe thead th {\n",
       "        text-align: right;\n",
       "    }\n",
       "</style>\n",
       "<table border=\"1\" class=\"dataframe\">\n",
       "  <thead>\n",
       "    <tr style=\"text-align: right;\">\n",
       "      <th></th>\n",
       "      <th>count</th>\n",
       "      <th>mean</th>\n",
       "      <th>std</th>\n",
       "      <th>min</th>\n",
       "      <th>25%</th>\n",
       "      <th>50%</th>\n",
       "      <th>75%</th>\n",
       "      <th>max</th>\n",
       "    </tr>\n",
       "  </thead>\n",
       "  <tbody>\n",
       "    <tr>\n",
       "      <th>NDVI</th>\n",
       "      <td>710.0</td>\n",
       "      <td>0.304625</td>\n",
       "      <td>0.057107</td>\n",
       "      <td>0.079599</td>\n",
       "      <td>0.269410</td>\n",
       "      <td>0.312578</td>\n",
       "      <td>0.345143</td>\n",
       "      <td>0.448269</td>\n",
       "    </tr>\n",
       "    <tr>\n",
       "      <th>dNDVI</th>\n",
       "      <td>710.0</td>\n",
       "      <td>0.091199</td>\n",
       "      <td>0.095354</td>\n",
       "      <td>-0.328951</td>\n",
       "      <td>0.043540</td>\n",
       "      <td>0.100500</td>\n",
       "      <td>0.156221</td>\n",
       "      <td>0.389909</td>\n",
       "    </tr>\n",
       "    <tr>\n",
       "      <th>dNBR</th>\n",
       "      <td>710.0</td>\n",
       "      <td>0.089975</td>\n",
       "      <td>0.082862</td>\n",
       "      <td>-0.235592</td>\n",
       "      <td>0.049972</td>\n",
       "      <td>0.095608</td>\n",
       "      <td>0.142845</td>\n",
       "      <td>0.315118</td>\n",
       "    </tr>\n",
       "  </tbody>\n",
       "</table>\n",
       "</div>"
      ],
      "text/plain": [
       "       count      mean       std       min       25%       50%       75%  \\\n",
       "NDVI   710.0  0.304625  0.057107  0.079599  0.269410  0.312578  0.345143   \n",
       "dNDVI  710.0  0.091199  0.095354 -0.328951  0.043540  0.100500  0.156221   \n",
       "dNBR   710.0  0.089975  0.082862 -0.235592  0.049972  0.095608  0.142845   \n",
       "\n",
       "            max  \n",
       "NDVI   0.448269  \n",
       "dNDVI  0.389909  \n",
       "dNBR   0.315118  "
      ]
     },
     "execution_count": 6,
     "metadata": {},
     "output_type": "execute_result"
    }
   ],
   "source": [
    "#analysis of SCL and not SCL\n",
    "data[:710].describe().transpose()"
   ]
  },
  {
   "cell_type": "code",
   "execution_count": 7,
   "metadata": {},
   "outputs": [
    {
     "data": {
      "text/html": [
       "<div>\n",
       "<style scoped>\n",
       "    .dataframe tbody tr th:only-of-type {\n",
       "        vertical-align: middle;\n",
       "    }\n",
       "\n",
       "    .dataframe tbody tr th {\n",
       "        vertical-align: top;\n",
       "    }\n",
       "\n",
       "    .dataframe thead th {\n",
       "        text-align: right;\n",
       "    }\n",
       "</style>\n",
       "<table border=\"1\" class=\"dataframe\">\n",
       "  <thead>\n",
       "    <tr style=\"text-align: right;\">\n",
       "      <th></th>\n",
       "      <th>count</th>\n",
       "      <th>mean</th>\n",
       "      <th>std</th>\n",
       "      <th>min</th>\n",
       "      <th>25%</th>\n",
       "      <th>50%</th>\n",
       "      <th>75%</th>\n",
       "      <th>max</th>\n",
       "    </tr>\n",
       "  </thead>\n",
       "  <tbody>\n",
       "    <tr>\n",
       "      <th>NDVI</th>\n",
       "      <td>1000.0</td>\n",
       "      <td>0.226795</td>\n",
       "      <td>0.068495</td>\n",
       "      <td>-0.023309</td>\n",
       "      <td>0.177081</td>\n",
       "      <td>0.227602</td>\n",
       "      <td>0.279667</td>\n",
       "      <td>0.438087</td>\n",
       "    </tr>\n",
       "    <tr>\n",
       "      <th>dNDVI</th>\n",
       "      <td>1000.0</td>\n",
       "      <td>0.018794</td>\n",
       "      <td>0.085359</td>\n",
       "      <td>-0.258353</td>\n",
       "      <td>-0.038002</td>\n",
       "      <td>0.021409</td>\n",
       "      <td>0.075139</td>\n",
       "      <td>0.302345</td>\n",
       "    </tr>\n",
       "    <tr>\n",
       "      <th>dNBR</th>\n",
       "      <td>1000.0</td>\n",
       "      <td>0.049338</td>\n",
       "      <td>0.104471</td>\n",
       "      <td>-0.278433</td>\n",
       "      <td>-0.010399</td>\n",
       "      <td>0.054481</td>\n",
       "      <td>0.122175</td>\n",
       "      <td>0.308262</td>\n",
       "    </tr>\n",
       "  </tbody>\n",
       "</table>\n",
       "</div>"
      ],
      "text/plain": [
       "        count      mean       std       min       25%       50%       75%  \\\n",
       "NDVI   1000.0  0.226795  0.068495 -0.023309  0.177081  0.227602  0.279667   \n",
       "dNDVI  1000.0  0.018794  0.085359 -0.258353 -0.038002  0.021409  0.075139   \n",
       "dNBR   1000.0  0.049338  0.104471 -0.278433 -0.010399  0.054481  0.122175   \n",
       "\n",
       "            max  \n",
       "NDVI   0.438087  \n",
       "dNDVI  0.302345  \n",
       "dNBR   0.308262  "
      ]
     },
     "execution_count": 7,
     "metadata": {},
     "output_type": "execute_result"
    }
   ],
   "source": [
    "data[710:].describe().transpose()"
   ]
  },
  {
   "cell_type": "code",
   "execution_count": 3,
   "metadata": {},
   "outputs": [],
   "source": [
    "#prepare data for traning\n",
    "import copy\n",
    "rf_data=copy.copy(data)"
   ]
  },
  {
   "cell_type": "code",
   "execution_count": 4,
   "metadata": {},
   "outputs": [
    {
     "name": "stdout",
     "output_type": "stream",
     "text": [
      "       NDVI     dNDVI      dNBR  RESULT\n",
      "0  0.223383 -0.040262 -0.094064       1\n",
      "1  0.357803 -0.054888 -0.148439       1\n",
      "2  0.275674 -0.006674  0.046614       1\n",
      "3  0.255108 -0.028314 -0.045043       1\n",
      "4  0.258632  0.061891  0.038711       1\n"
     ]
    }
   ],
   "source": [
    "from sklearn import preprocessing\n",
    "# label_encoder object knows how to understand word labels. \n",
    "label_encoder = preprocessing.LabelEncoder()\n",
    "# Encode labels in column 'Country'. \n",
    "rf_data['RESULT']= label_encoder.fit_transform(rf_data['RESULT']) \n",
    "print(rf_data.head())"
   ]
  },
  {
   "cell_type": "code",
   "execution_count": 5,
   "metadata": {},
   "outputs": [],
   "source": [
    "labels = np.array(rf_data['RESULT'])# Remove the labels from the features\n",
    "# axis 1 refers to the columns\n",
    "rf_data= rf_data.drop('RESULT', axis = 1)# Saving feature names for later use\n",
    "feature_list = list(rf_data.columns)# Convert to numpy array\n",
    "rf_data = np.array(rf_data)"
   ]
  },
  {
   "cell_type": "code",
   "execution_count": 9,
   "metadata": {},
   "outputs": [],
   "source": [
    "from sklearn.model_selection import train_test_split\n",
    "\n",
    "train_features, test_features, train_labels, test_labels = train_test_split(\n",
    "        rf_data, labels, test_size = 0.3, random_state = 42, shuffle=True)"
   ]
  },
  {
   "cell_type": "code",
   "execution_count": 7,
   "metadata": {},
   "outputs": [
    {
     "data": {
      "text/plain": [
       "RandomForestClassifier(bootstrap=True, ccp_alpha=0.0, class_weight=None,\n",
       "                       criterion='gini', max_depth=2, max_features='auto',\n",
       "                       max_leaf_nodes=None, max_samples=None,\n",
       "                       min_impurity_decrease=0.0, min_impurity_split=None,\n",
       "                       min_samples_leaf=1, min_samples_split=2,\n",
       "                       min_weight_fraction_leaf=0.0, n_estimators=100,\n",
       "                       n_jobs=None, oob_score=False, random_state=0, verbose=0,\n",
       "                       warm_start=False)"
      ]
     },
     "execution_count": 7,
     "metadata": {},
     "output_type": "execute_result"
    }
   ],
   "source": [
    "from sklearn.ensemble import RandomForestClassifier# Instantiate model with 1000 decision trees\n",
    "rf = RandomForestClassifier(max_depth=2, random_state=0)# Train the model on training data\n",
    "rf.fit(train_features, train_labels)"
   ]
  },
  {
   "cell_type": "code",
   "execution_count": 8,
   "metadata": {},
   "outputs": [
    {
     "data": {
      "text/plain": [
       "0.7797270955165692"
      ]
     },
     "execution_count": 8,
     "metadata": {},
     "output_type": "execute_result"
    }
   ],
   "source": [
    "#calculate accuracy\n",
    "from sklearn.metrics import accuracy_score\n",
    "predictions = rf.predict(test_features)\n",
    "accuracy_score(test_labels, predictions)"
   ]
  },
  {
   "cell_type": "code",
   "execution_count": 9,
   "metadata": {},
   "outputs": [],
   "source": [
    "# Support vector machine\n",
    "from sklearn.preprocessing import StandardScaler\n",
    "sc_X = StandardScaler()\n",
    "X_train = sc_X.fit_transform(train_features)\n",
    "X_test = sc_X.transform(test_features)\n",
    "from sklearn import svm\n",
    "from sklearn.svm import SVC\n",
    "svm1 = svm.SVC(kernel='linear', C = 0.01)\n",
    "svm1.fit(X_train,train_labels)\n",
    "SVC(C=0.01, kernel='linear')\n",
    "y_test_pred = svm1.predict(X_test)"
   ]
  },
  {
   "cell_type": "code",
   "execution_count": 10,
   "metadata": {},
   "outputs": [
    {
     "data": {
      "text/plain": [
       "0.847953216374269"
      ]
     },
     "execution_count": 10,
     "metadata": {},
     "output_type": "execute_result"
    }
   ],
   "source": [
    "from sklearn.metrics import accuracy_score\n",
    "accuracy_score(test_labels, y_test_pred)"
   ]
  },
  {
   "cell_type": "code",
   "execution_count": 11,
   "metadata": {},
   "outputs": [],
   "source": [
    "# Logistic regression\n",
    "from sklearn.linear_model import LogisticRegression\n",
    "clf = LogisticRegression(random_state=0).fit(train_features,train_labels)"
   ]
  },
  {
   "cell_type": "code",
   "execution_count": 12,
   "metadata": {},
   "outputs": [
    {
     "data": {
      "text/plain": [
       "0.8440545808966862"
      ]
     },
     "execution_count": 12,
     "metadata": {},
     "output_type": "execute_result"
    }
   ],
   "source": [
    "lr_predict=clf.predict(test_features)\n",
    "accuracy_score(test_labels,lr_predict)"
   ]
  },
  {
   "cell_type": "code",
   "execution_count": 24,
   "metadata": {},
   "outputs": [
    {
     "data": {
      "text/plain": [
       "0.8557504873294347"
      ]
     },
     "execution_count": 24,
     "metadata": {},
     "output_type": "execute_result"
    }
   ],
   "source": [
    "# Mult layer perceptron\n",
    "from sklearn.neural_network import MLPClassifier\n",
    "from sklearn.metrics import accuracy_score\n",
    "mlp = MLPClassifier(hidden_layer_sizes=100, activation='relu', \n",
    "                    random_state=1, max_iter=300).fit(train_features,train_labels)\n",
    "mlp_pred=mlp.predict(test_features)\n",
    "accuracy_score(test_labels, mlp_pred)"
   ]
  },
  {
   "cell_type": "code",
   "execution_count": 14,
   "metadata": {},
   "outputs": [
    {
     "data": {
      "image/png": "[encoded data removed]",
      "text/plain": [
       "<Figure size 432x288 with 2 Axes>"
      ]
     },
     "metadata": {
      "needs_background": "light"
     },
     "output_type": "display_data"
    },
    {
     "name": "stdout",
     "output_type": "stream",
     "text": [
      "[[261  38]\n",
      " [ 36 178]]\n"
     ]
    }
   ],
   "source": [
    "# confusion matrix of mlp\n",
    "from sklearn.metrics import confusion_matrix, plot_confusion_matrix\n",
    "m=confusion_matrix(test_labels, mlp_pred)\n",
    "plot_confusion_matrix(mlp, test_features, test_labels)\n",
    "plt.show()\n",
    "print(m)"
   ]
  },
  {
   "cell_type": "code",
   "execution_count": 20,
   "metadata": {},
   "outputs": [
    {
     "data": {
      "image/png": "[encoded data removed]",
      "text/plain": [
       "<Figure size 432x288 with 2 Axes>"
      ]
     },
     "metadata": {
      "needs_background": "light"
     },
     "output_type": "display_data"
    },
    {
     "name": "stdout",
     "output_type": "stream",
     "text": [
      "[[270  29]\n",
      " [ 84 130]]\n"
     ]
    }
   ],
   "source": [
    "#plot confusion matrix\n",
    "from sklearn.metrics import confusion_matrix, plot_confusion_matrix\n",
    "#confusion matrix of random forest\n",
    "m=confusion_matrix(test_labels, predictions)\n",
    "plot_confusion_matrix(rf, test_features, test_labels)\n",
    "plt.show()\n",
    "print(m)"
   ]
  },
  {
   "cell_type": "code",
   "execution_count": 19,
   "metadata": {},
   "outputs": [
    {
     "data": {
      "image/png": "[encoded data removed]",
      "text/plain": [
       "<Figure size 432x288 with 2 Axes>"
      ]
     },
     "metadata": {
      "needs_background": "light"
     },
     "output_type": "display_data"
    },
    {
     "name": "stdout",
     "output_type": "stream",
     "text": [
      "[[256  43]\n",
      " [ 35 179]]\n"
     ]
    }
   ],
   "source": [
    "#confusion matrix of SVM\n",
    "m=confusion_matrix(test_labels,y_test_pred)\n",
    "plot_confusion_matrix(svm1, test_features, test_labels)\n",
    "plt.show()\n",
    "print(m)"
   ]
  },
  {
   "cell_type": "code",
   "execution_count": 18,
   "metadata": {},
   "outputs": [
    {
     "data": {
      "image/png": "[encoded data removed]",
      "text/plain": [
       "<Figure size 432x288 with 2 Axes>"
      ]
     },
     "metadata": {
      "needs_background": "light"
     },
     "output_type": "display_data"
    },
    {
     "name": "stdout",
     "output_type": "stream",
     "text": [
      "[[264  35]\n",
      " [ 45 169]]\n"
     ]
    }
   ],
   "source": [
    "#confusion matrix of Logistic regression\n",
    "m=confusion_matrix(test_labels,lr_predict)\n",
    "plot_confusion_matrix(clf, test_features, test_labels)\n",
    "plt.show()\n",
    "print(m)"
   ]
  },
  {
   "cell_type": "code",
   "execution_count": null,
   "metadata": {},
   "outputs": [],
   "source": [
    "ip=pd.read_csv('Demo.csv')"
   ]
  },
  {
   "cell_type": "code",
   "execution_count": 8,
   "metadata": {},
   "outputs": [],
   "source": [
    "demo_data=pd.read_csv('Demo.csv')"
   ]
  },
  {
   "cell_type": "code",
   "execution_count": 9,
   "metadata": {},
   "outputs": [],
   "source": [
    "np_data=demo_data.to_numpy()"
   ]
  },
  {
   "cell_type": "code",
   "execution_count": 10,
   "metadata": {},
   "outputs": [],
   "source": [
    "rf_pred=rf.predict(np_data)"
   ]
  },
  {
   "cell_type": "code",
   "execution_count": 12,
   "metadata": {},
   "outputs": [],
   "source": [
    "c1=0\n",
    "c0=0\n",
    "for i in rf_pred:\n",
    "    if(i==1):\n",
    "        c1+=1\n",
    "    else:\n",
    "        c0+=1"
   ]
  },
  {
   "cell_type": "code",
   "execution_count": 13,
   "metadata": {},
   "outputs": [
    {
     "data": {
      "text/plain": [
       "(0, 1001)"
      ]
     },
     "execution_count": 13,
     "metadata": {},
     "output_type": "execute_result"
    }
   ],
   "source": [
    "c1,c0"
   ]
  },
  {
   "cell_type": "code",
   "execution_count": 14,
   "metadata": {},
   "outputs": [
    {
     "data": {
      "text/plain": [
       "array([0, 0, 0, ..., 0, 0, 0])"
      ]
     },
     "execution_count": 14,
     "metadata": {},
     "output_type": "execute_result"
    }
   ],
   "source": [
    "rf_pred"
   ]
  },
  {
   "cell_type": "code",
   "execution_count": null,
   "metadata": {},
   "outputs": [],
   "source": []
  }
 ],
 "metadata": {
  "kernelspec": {
   "display_name": "Python 3",
   "language": "python",
   "name": "python3"
  },
  "language_info": {
   "codemirror_mode": {
    "name": "ipython",
    "version": 3
   },
   "file_extension": ".py",
   "mimetype": "text/x-python",
   "name": "python",
   "nbconvert_exporter": "python",
   "pygments_lexer": "ipython3",
   "version": "3.7.6"
  }
 },
 "nbformat": 4,
 "nbformat_minor": 4
}
